{
  "nbformat": 4,
  "nbformat_minor": 0,
  "metadata": {
    "colab": {
      "name": "Poisson Distribution Using Scipy.ipynb",
      "provenance": [],
      "authorship_tag": "ABX9TyM55+ttQ7Wr6noCJSC36957",
      "include_colab_link": true
    },
    "kernelspec": {
      "name": "python3",
      "display_name": "Python 3"
    },
    "language_info": {
      "name": "python"
    }
  },
  "cells": [
    {
      "cell_type": "markdown",
      "metadata": {
        "id": "view-in-github",
        "colab_type": "text"
      },
      "source": [
        "<a href=\"https://colab.research.google.com/github/coder-omer/Statistics/blob/main/Poisson_Distribution_Using_Scipy.ipynb\" target=\"_parent\"><img src=\"https://colab.research.google.com/assets/colab-badge.svg\" alt=\"Open In Colab\"/></a>"
      ]
    },
    {
      "cell_type": "code",
      "execution_count": null,
      "metadata": {
        "colab": {
          "base_uri": "https://localhost:8080/"
        },
        "id": "Qa41U4N_X1lf",
        "outputId": "94d429c7-bd10-4538-c285-66696cc07fa7"
      },
      "outputs": [
        {
          "output_type": "execute_result",
          "data": {
            "text/plain": [
              "array([5, 4, 4, 4, 2, 5, 2, 5, 3, 5])"
            ]
          },
          "metadata": {},
          "execution_count": 1
        }
      ],
      "source": [
        "from scipy import stats\n",
        "poissonDist = stats.poisson(mu=4)\n",
        "poissonDist.rvs(size=10, random_state=42)"
      ]
    },
    {
      "cell_type": "code",
      "source": [
        "poissonDist = stats.poisson(mu=4)\n",
        "poissonDist.pmf(k=3)"
      ],
      "metadata": {
        "colab": {
          "base_uri": "https://localhost:8080/"
        },
        "id": "v3Db01beX6-O",
        "outputId": "c72855ae-678c-468a-aad1-d711ef17ef4f"
      },
      "execution_count": null,
      "outputs": [
        {
          "output_type": "execute_result",
          "data": {
            "text/plain": [
              "0.19536681481316454"
            ]
          },
          "metadata": {},
          "execution_count": 2
        }
      ]
    },
    {
      "cell_type": "code",
      "source": [
        "poissonDist = stats.poisson(mu=4)\n",
        "poissonDist.pmf(k=[1,2,3,4,5,6,7,8])"
      ],
      "metadata": {
        "colab": {
          "base_uri": "https://localhost:8080/"
        },
        "id": "PjMVdtJeX7Be",
        "outputId": "c291b4e9-e075-447f-f292-ac76622d4824"
      },
      "execution_count": null,
      "outputs": [
        {
          "output_type": "execute_result",
          "data": {
            "text/plain": [
              "array([0.07326256, 0.14652511, 0.19536681, 0.19536681, 0.15629345,\n",
              "       0.10419563, 0.05954036, 0.02977018])"
            ]
          },
          "metadata": {},
          "execution_count": 3
        }
      ]
    },
    {
      "cell_type": "code",
      "source": [
        "poissonDist = stats.poisson(mu=4)\n",
        "poissonDist.cdf(x=3)"
      ],
      "metadata": {
        "colab": {
          "base_uri": "https://localhost:8080/"
        },
        "id": "VQtsEih9YPEr",
        "outputId": "f02d6bb0-8027-4cb5-84b5-a18118d883d0"
      },
      "execution_count": null,
      "outputs": [
        {
          "output_type": "execute_result",
          "data": {
            "text/plain": [
              "0.43347012036670896"
            ]
          },
          "metadata": {},
          "execution_count": 4
        }
      ]
    },
    {
      "cell_type": "code",
      "source": [
        "poissonDist = stats.poisson(mu=4)\n",
        "poissonDist.ppf(q=0.43347)"
      ],
      "metadata": {
        "colab": {
          "base_uri": "https://localhost:8080/"
        },
        "id": "QJ10_6BlYO9A",
        "outputId": "40ea487e-2a77-4a75-a8b2-2996614da2e7"
      },
      "execution_count": null,
      "outputs": [
        {
          "output_type": "execute_result",
          "data": {
            "text/plain": [
              "3.0"
            ]
          },
          "metadata": {},
          "execution_count": 5
        }
      ]
    },
    {
      "cell_type": "code",
      "source": [
        "poissonDist = stats.poisson(mu=4)\n",
        "poissonDist.stats(moments='mvsk') #Mean(‘m’), variance(‘v’), skew(‘s’), and/or kurtosis(‘k’)"
      ],
      "metadata": {
        "colab": {
          "base_uri": "https://localhost:8080/"
        },
        "id": "ah2vrlJ5YO5z",
        "outputId": "4f7113f8-f9bd-4b5f-81c6-655e467698c3"
      },
      "execution_count": null,
      "outputs": [
        {
          "output_type": "execute_result",
          "data": {
            "text/plain": [
              "(array(4.), array(4.), array(0.5), array(0.25))"
            ]
          },
          "metadata": {},
          "execution_count": 6
        }
      ]
    },
    {
      "cell_type": "code",
      "source": [
        ""
      ],
      "metadata": {
        "id": "WFHRSnzcYODy"
      },
      "execution_count": null,
      "outputs": []
    },
    {
      "cell_type": "code",
      "source": [
        ""
      ],
      "metadata": {
        "id": "Ez5quMaqYOAh"
      },
      "execution_count": null,
      "outputs": []
    },
    {
      "cell_type": "code",
      "source": [
        ""
      ],
      "metadata": {
        "id": "N9p35jdQYN9A"
      },
      "execution_count": null,
      "outputs": []
    },
    {
      "cell_type": "code",
      "source": [
        ""
      ],
      "metadata": {
        "id": "L03Yfp6yYN5l"
      },
      "execution_count": null,
      "outputs": []
    },
    {
      "cell_type": "code",
      "source": [
        ""
      ],
      "metadata": {
        "id": "XNpFXb1iYN2C"
      },
      "execution_count": null,
      "outputs": []
    },
    {
      "cell_type": "code",
      "source": [
        ""
      ],
      "metadata": {
        "id": "-SYpCLAUYNzB"
      },
      "execution_count": null,
      "outputs": []
    }
  ]
}