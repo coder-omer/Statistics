{
  "cells": [
    {
      "cell_type": "markdown",
      "metadata": {
        "id": "view-in-github",
        "colab_type": "text"
      },
      "source": [
        "<a href=\"https://colab.research.google.com/github/coder-omer/Statistics/blob/main/Statistics_Lab3_(Hypothesis_Tests)_Jason_22_Feb_2022_Students.ipynb\" target=\"_parent\"><img src=\"https://colab.research.google.com/assets/colab-badge.svg\" alt=\"Open In Colab\"/></a>"
      ]
    },
    {
      "cell_type": "code",
      "source": [
        "pip install --upgrade scipy"
      ],
      "metadata": {
        "colab": {
          "base_uri": "https://localhost:8080/"
        },
        "id": "99sL3hkabcbQ",
        "outputId": "9831b63a-2e75-42b6-b569-ab1ac790543b"
      },
      "execution_count": null,
      "outputs": [
        {
          "output_type": "stream",
          "name": "stdout",
          "text": [
            "Requirement already satisfied: scipy in /usr/local/lib/python3.7/dist-packages (1.7.3)\n",
            "Requirement already satisfied: numpy<1.23.0,>=1.16.5 in /usr/local/lib/python3.7/dist-packages (from scipy) (1.21.5)\n"
          ]
        }
      ]
    },
    {
      "cell_type": "code",
      "execution_count": null,
      "metadata": {
        "colab": {
          "base_uri": "https://localhost:8080/"
        },
        "id": "jD29mbeXY81Y",
        "outputId": "1afd58c2-87bb-4248-9926-cd9db443277f"
      },
      "outputs": [
        {
          "output_type": "stream",
          "name": "stdout",
          "text": [
            "1.7.3\n"
          ]
        }
      ],
      "source": [
        "# Check Scipy version\n",
        "import scipy\n",
        "print(scipy.__version__)"
      ]
    },
    {
      "cell_type": "markdown",
      "metadata": {
        "id": "KXRG7k4RY81d"
      },
      "source": [
        "Tutorial\n",
        "https://docs.anaconda.com/anaconda/navigator/tutorials/manage-packages/"
      ]
    },
    {
      "cell_type": "code",
      "execution_count": null,
      "metadata": {
        "id": "AqFCBHzfY81f"
      },
      "outputs": [],
      "source": [
        "# Import pandas, numpy, scip.stats\n",
        "import pandas as pd\n",
        "import numpy as np\n",
        "from scipy import stats"
      ]
    },
    {
      "cell_type": "markdown",
      "metadata": {
        "id": "tY1F4HjGY81f"
      },
      "source": [
        "## One Sample T Test"
      ]
    },
    {
      "cell_type": "markdown",
      "metadata": {
        "id": "M-cxbNFcY81g"
      },
      "source": [
        "- According to Reynolds Intellectual Ability Scales, the average VIQ (Verbal IQ scores based on the four Wechsler (1981) subtests) is about 109.\n",
        "\n",
        "- In our sample data, we have a sample of 40 cases. \n",
        "- Let's test if the average VIQ of people is significantly bigger than 109."
      ]
    },
    {
      "cell_type": "code",
      "execution_count": null,
      "metadata": {
        "id": "7LKq1zvbY81g"
      },
      "outputs": [],
      "source": [
        "# Brain size and weight and IQ data (Willerman et al. 1991)\n",
        "df = pd.read_csv(\"brain_size.csv\", sep=\";\", na_values = \".\", index_col = 0)"
      ]
    },
    {
      "cell_type": "code",
      "execution_count": null,
      "metadata": {
        "colab": {
          "base_uri": "https://localhost:8080/",
          "height": 206
        },
        "id": "XXdXPbzgY81g",
        "outputId": "6a03057c-4b58-484a-afc2-39e3f08c9a5f"
      },
      "outputs": [
        {
          "output_type": "execute_result",
          "data": {
            "text/html": [
              "\n",
              "  <div id=\"df-d0931171-97ff-4822-97d0-77bd8e057c1c\">\n",
              "    <div class=\"colab-df-container\">\n",
              "      <div>\n",
              "<style scoped>\n",
              "    .dataframe tbody tr th:only-of-type {\n",
              "        vertical-align: middle;\n",
              "    }\n",
              "\n",
              "    .dataframe tbody tr th {\n",
              "        vertical-align: top;\n",
              "    }\n",
              "\n",
              "    .dataframe thead th {\n",
              "        text-align: right;\n",
              "    }\n",
              "</style>\n",
              "<table border=\"1\" class=\"dataframe\">\n",
              "  <thead>\n",
              "    <tr style=\"text-align: right;\">\n",
              "      <th></th>\n",
              "      <th>Gender</th>\n",
              "      <th>FSIQ</th>\n",
              "      <th>VIQ</th>\n",
              "      <th>PIQ</th>\n",
              "      <th>Weight</th>\n",
              "      <th>Height</th>\n",
              "      <th>MRI_Count</th>\n",
              "    </tr>\n",
              "  </thead>\n",
              "  <tbody>\n",
              "    <tr>\n",
              "      <th>1</th>\n",
              "      <td>Female</td>\n",
              "      <td>133</td>\n",
              "      <td>132</td>\n",
              "      <td>124</td>\n",
              "      <td>118.0</td>\n",
              "      <td>64.5</td>\n",
              "      <td>816932</td>\n",
              "    </tr>\n",
              "    <tr>\n",
              "      <th>2</th>\n",
              "      <td>Male</td>\n",
              "      <td>140</td>\n",
              "      <td>150</td>\n",
              "      <td>124</td>\n",
              "      <td>NaN</td>\n",
              "      <td>72.5</td>\n",
              "      <td>1001121</td>\n",
              "    </tr>\n",
              "    <tr>\n",
              "      <th>3</th>\n",
              "      <td>Male</td>\n",
              "      <td>139</td>\n",
              "      <td>123</td>\n",
              "      <td>150</td>\n",
              "      <td>143.0</td>\n",
              "      <td>73.3</td>\n",
              "      <td>1038437</td>\n",
              "    </tr>\n",
              "    <tr>\n",
              "      <th>4</th>\n",
              "      <td>Male</td>\n",
              "      <td>133</td>\n",
              "      <td>129</td>\n",
              "      <td>128</td>\n",
              "      <td>172.0</td>\n",
              "      <td>68.8</td>\n",
              "      <td>965353</td>\n",
              "    </tr>\n",
              "    <tr>\n",
              "      <th>5</th>\n",
              "      <td>Female</td>\n",
              "      <td>137</td>\n",
              "      <td>132</td>\n",
              "      <td>134</td>\n",
              "      <td>147.0</td>\n",
              "      <td>65.0</td>\n",
              "      <td>951545</td>\n",
              "    </tr>\n",
              "  </tbody>\n",
              "</table>\n",
              "</div>\n",
              "      <button class=\"colab-df-convert\" onclick=\"convertToInteractive('df-d0931171-97ff-4822-97d0-77bd8e057c1c')\"\n",
              "              title=\"Convert this dataframe to an interactive table.\"\n",
              "              style=\"display:none;\">\n",
              "        \n",
              "  <svg xmlns=\"http://www.w3.org/2000/svg\" height=\"24px\"viewBox=\"0 0 24 24\"\n",
              "       width=\"24px\">\n",
              "    <path d=\"M0 0h24v24H0V0z\" fill=\"none\"/>\n",
              "    <path d=\"M18.56 5.44l.94 2.06.94-2.06 2.06-.94-2.06-.94-.94-2.06-.94 2.06-2.06.94zm-11 1L8.5 8.5l.94-2.06 2.06-.94-2.06-.94L8.5 2.5l-.94 2.06-2.06.94zm10 10l.94 2.06.94-2.06 2.06-.94-2.06-.94-.94-2.06-.94 2.06-2.06.94z\"/><path d=\"M17.41 7.96l-1.37-1.37c-.4-.4-.92-.59-1.43-.59-.52 0-1.04.2-1.43.59L10.3 9.45l-7.72 7.72c-.78.78-.78 2.05 0 2.83L4 21.41c.39.39.9.59 1.41.59.51 0 1.02-.2 1.41-.59l7.78-7.78 2.81-2.81c.8-.78.8-2.07 0-2.86zM5.41 20L4 18.59l7.72-7.72 1.47 1.35L5.41 20z\"/>\n",
              "  </svg>\n",
              "      </button>\n",
              "      \n",
              "  <style>\n",
              "    .colab-df-container {\n",
              "      display:flex;\n",
              "      flex-wrap:wrap;\n",
              "      gap: 12px;\n",
              "    }\n",
              "\n",
              "    .colab-df-convert {\n",
              "      background-color: #E8F0FE;\n",
              "      border: none;\n",
              "      border-radius: 50%;\n",
              "      cursor: pointer;\n",
              "      display: none;\n",
              "      fill: #1967D2;\n",
              "      height: 32px;\n",
              "      padding: 0 0 0 0;\n",
              "      width: 32px;\n",
              "    }\n",
              "\n",
              "    .colab-df-convert:hover {\n",
              "      background-color: #E2EBFA;\n",
              "      box-shadow: 0px 1px 2px rgba(60, 64, 67, 0.3), 0px 1px 3px 1px rgba(60, 64, 67, 0.15);\n",
              "      fill: #174EA6;\n",
              "    }\n",
              "\n",
              "    [theme=dark] .colab-df-convert {\n",
              "      background-color: #3B4455;\n",
              "      fill: #D2E3FC;\n",
              "    }\n",
              "\n",
              "    [theme=dark] .colab-df-convert:hover {\n",
              "      background-color: #434B5C;\n",
              "      box-shadow: 0px 1px 3px 1px rgba(0, 0, 0, 0.15);\n",
              "      filter: drop-shadow(0px 1px 2px rgba(0, 0, 0, 0.3));\n",
              "      fill: #FFFFFF;\n",
              "    }\n",
              "  </style>\n",
              "\n",
              "      <script>\n",
              "        const buttonEl =\n",
              "          document.querySelector('#df-d0931171-97ff-4822-97d0-77bd8e057c1c button.colab-df-convert');\n",
              "        buttonEl.style.display =\n",
              "          google.colab.kernel.accessAllowed ? 'block' : 'none';\n",
              "\n",
              "        async function convertToInteractive(key) {\n",
              "          const element = document.querySelector('#df-d0931171-97ff-4822-97d0-77bd8e057c1c');\n",
              "          const dataTable =\n",
              "            await google.colab.kernel.invokeFunction('convertToInteractive',\n",
              "                                                     [key], {});\n",
              "          if (!dataTable) return;\n",
              "\n",
              "          const docLinkHtml = 'Like what you see? Visit the ' +\n",
              "            '<a target=\"_blank\" href=https://colab.research.google.com/notebooks/data_table.ipynb>data table notebook</a>'\n",
              "            + ' to learn more about interactive tables.';\n",
              "          element.innerHTML = '';\n",
              "          dataTable['output_type'] = 'display_data';\n",
              "          await google.colab.output.renderOutput(dataTable, element);\n",
              "          const docLink = document.createElement('div');\n",
              "          docLink.innerHTML = docLinkHtml;\n",
              "          element.appendChild(docLink);\n",
              "        }\n",
              "      </script>\n",
              "    </div>\n",
              "  </div>\n",
              "  "
            ],
            "text/plain": [
              "   Gender  FSIQ  VIQ  PIQ  Weight  Height  MRI_Count\n",
              "1  Female   133  132  124   118.0    64.5     816932\n",
              "2    Male   140  150  124     NaN    72.5    1001121\n",
              "3    Male   139  123  150   143.0    73.3    1038437\n",
              "4    Male   133  129  128   172.0    68.8     965353\n",
              "5  Female   137  132  134   147.0    65.0     951545"
            ]
          },
          "metadata": {},
          "execution_count": 5
        }
      ],
      "source": [
        "df.head()"
      ]
    },
    {
      "cell_type": "code",
      "execution_count": null,
      "metadata": {
        "id": "rn-Arx_WY81h"
      },
      "outputs": [],
      "source": [
        "# H0: mu = 109\n",
        "# H1: mu > 109"
      ]
    },
    {
      "cell_type": "code",
      "execution_count": null,
      "metadata": {
        "colab": {
          "base_uri": "https://localhost:8080/"
        },
        "id": "N-bTWDFBY81h",
        "outputId": "318b4b7a-7943-4633-8e55-dadd0fbe020a"
      },
      "outputs": [
        {
          "output_type": "execute_result",
          "data": {
            "text/plain": [
              "112.35"
            ]
          },
          "metadata": {},
          "execution_count": 7
        }
      ],
      "source": [
        "# Calculate the mean of VIQ\n",
        "xbar = df.VIQ.mean()\n",
        "xbar"
      ]
    },
    {
      "cell_type": "code",
      "execution_count": null,
      "metadata": {
        "colab": {
          "base_uri": "https://localhost:8080/"
        },
        "id": "WuW_b4tnY81i",
        "outputId": "b769dd6a-f3fd-4441-c0df-24b2d1ba82c4"
      },
      "outputs": [
        {
          "output_type": "execute_result",
          "data": {
            "text/plain": [
              "23.616107063199735"
            ]
          },
          "metadata": {},
          "execution_count": 8
        }
      ],
      "source": [
        "# Calculate the std of VIQ\n",
        "s = df.VIQ.std()\n",
        "s"
      ]
    },
    {
      "cell_type": "code",
      "execution_count": null,
      "metadata": {
        "colab": {
          "base_uri": "https://localhost:8080/"
        },
        "id": "Yb_CrpHJY81i",
        "outputId": "21e3c3f5-2ed8-40a1-da78-4c883f8f6044"
      },
      "outputs": [
        {
          "output_type": "execute_result",
          "data": {
            "text/plain": [
              "(40, 7)"
            ]
          },
          "metadata": {},
          "execution_count": 9
        }
      ],
      "source": [
        "df.shape"
      ]
    },
    {
      "cell_type": "code",
      "execution_count": null,
      "metadata": {
        "id": "Q_7C8TQmY81j"
      },
      "outputs": [],
      "source": [
        "# Calculate the test statistic\n",
        "t_test = (xbar - 109) / (s/np.sqrt(df.shape[0]))"
      ]
    },
    {
      "cell_type": "code",
      "execution_count": null,
      "metadata": {
        "colab": {
          "base_uri": "https://localhost:8080/"
        },
        "id": "gYA4pQP9Y81j",
        "outputId": "79f6ec99-95cc-4acd-e87e-f6f515a50470"
      },
      "outputs": [
        {
          "output_type": "execute_result",
          "data": {
            "text/plain": [
              "0.8971529586323553"
            ]
          },
          "metadata": {},
          "execution_count": 11
        }
      ],
      "source": [
        "#test statistic\n",
        "t_test"
      ]
    },
    {
      "cell_type": "code",
      "execution_count": null,
      "metadata": {
        "colab": {
          "base_uri": "https://localhost:8080/"
        },
        "id": "m2YjDNppY81k",
        "outputId": "a4308aff-b5e6-4a8f-8641-c2d726370c89"
      },
      "outputs": [
        {
          "output_type": "execute_result",
          "data": {
            "text/plain": [
              "0.18750275115210124"
            ]
          },
          "metadata": {},
          "execution_count": 12
        }
      ],
      "source": [
        "# Calculate p-value\n",
        "1- stats.t.cdf(t_test, df=df.shape[0])"
      ]
    },
    {
      "cell_type": "code",
      "execution_count": null,
      "metadata": {
        "colab": {
          "base_uri": "https://localhost:8080/"
        },
        "id": "A4fQZUSeY81l",
        "outputId": "5e9db23e-2665-4cf6-96d2-1d54e4e6f8b4"
      },
      "outputs": [
        {
          "output_type": "execute_result",
          "data": {
            "text/plain": [
              "Ttest_1sampResult(statistic=0.897152958632355, pvalue=0.1875711592925718)"
            ]
          },
          "metadata": {},
          "execution_count": 13
        }
      ],
      "source": [
        "# Use stats.ttest_1samp() to calculate the test statistic and p-value\n",
        "oneSamp = stats.ttest_1samp(df.VIQ, popmean=109, alternative='greater')\n",
        "oneSamp"
      ]
    },
    {
      "cell_type": "code",
      "execution_count": null,
      "metadata": {
        "id": "3hDg9mepY81l"
      },
      "outputs": [],
      "source": [
        "#Display p-value\n"
      ]
    },
    {
      "cell_type": "code",
      "execution_count": null,
      "metadata": {
        "id": "ln7ExDhCY81m"
      },
      "outputs": [],
      "source": [
        "# Compare p-value and alpha\n",
        "alpha = 0.05\n",
        "\n",
        "if oneSamp.pvalue < alpha:\n",
        "    print(\"Reject the null\")\n",
        "else:\n",
        "    print(\"Fail to reject the null\")"
      ]
    },
    {
      "cell_type": "markdown",
      "metadata": {
        "id": "QXaj2ZA7Y81m"
      },
      "source": [
        "# Independent Samples T Test"
      ]
    },
    {
      "cell_type": "markdown",
      "metadata": {
        "id": "gs4_t4ofY81m"
      },
      "source": [
        "## Arsenic Example"
      ]
    },
    {
      "cell_type": "markdown",
      "metadata": {
        "id": "FETUc5uYY81n"
      },
      "source": [
        "- Arsenic concentration in public drinking water supplies is a potential health risk. \n",
        "- An article in the Arizona Republic (May 27, 2001) reported drinking water arsenic concentrations in parts per billion (ppb) for 10 metropolitan Phoenix communities and 10 communities in rural Arizona.\n",
        "- You can find the data in CSV file."
      ]
    },
    {
      "cell_type": "markdown",
      "metadata": {
        "id": "kWmy1ARSY81n"
      },
      "source": [
        "Determine if there is any difference in mean arsenic concentrations between metropolitan Phoenix communities and communities in rural Arizona."
      ]
    },
    {
      "cell_type": "code",
      "execution_count": null,
      "metadata": {
        "id": "dYfGt8xHY81o"
      },
      "outputs": [],
      "source": [
        "#Import arsenic dataset\n",
        "arsenic = "
      ]
    },
    {
      "cell_type": "code",
      "execution_count": null,
      "metadata": {
        "id": "qxrtAdCHY81o"
      },
      "outputs": [],
      "source": [
        "arsenic"
      ]
    },
    {
      "cell_type": "code",
      "execution_count": null,
      "metadata": {
        "id": "ZfWZJ0q7Y81o"
      },
      "outputs": [],
      "source": [
        "#H0: mu1 = mu2\n",
        "#H1: mu1 != mu2"
      ]
    },
    {
      "cell_type": "code",
      "execution_count": null,
      "metadata": {
        "id": "tj5MuZCSY81p"
      },
      "outputs": [],
      "source": [
        "#Perform Levene test for equal variances\n",
        "#H0: The population variances are equal\n",
        "#H1: There is a difference between the variances in the population\n",
        "#The small p-value suggests that the populations do not have equal variances.\n",
        "leveneTest = \n",
        "leveneTest"
      ]
    },
    {
      "cell_type": "code",
      "execution_count": null,
      "metadata": {
        "id": "EVjZPfKPY81p"
      },
      "outputs": [],
      "source": [
        "# average Metro Phoenix\n"
      ]
    },
    {
      "cell_type": "code",
      "execution_count": null,
      "metadata": {
        "id": "Xc1hOKngY81q"
      },
      "outputs": [],
      "source": [
        "# average Rural Arizona\n"
      ]
    },
    {
      "cell_type": "markdown",
      "metadata": {
        "id": "zMTVpdRxY81q"
      },
      "source": [
        "Calculate the T-test for the means of two independent samples of scores."
      ]
    },
    {
      "cell_type": "code",
      "execution_count": null,
      "metadata": {
        "id": "6LbG5WW5Y81q"
      },
      "outputs": [],
      "source": [
        "# H0: mu1 = mu2\n",
        "# H1: mu1 != mu2"
      ]
    },
    {
      "cell_type": "code",
      "execution_count": null,
      "metadata": {
        "id": "P4XEN1-mY81q"
      },
      "outputs": [],
      "source": [
        "# Calculate test statistics using stats.ttest_ind()\n",
        "indTest = "
      ]
    },
    {
      "cell_type": "code",
      "execution_count": null,
      "metadata": {
        "id": "HqM04Ht9Y81r"
      },
      "outputs": [],
      "source": [
        ""
      ]
    },
    {
      "cell_type": "code",
      "execution_count": null,
      "metadata": {
        "id": "C9scIDqwY81r"
      },
      "outputs": [],
      "source": [
        ""
      ]
    },
    {
      "cell_type": "code",
      "execution_count": null,
      "metadata": {
        "id": "DfVyw-K9Y81r"
      },
      "outputs": [],
      "source": [
        "# Decision\n",
        "alpha = 0.05\n",
        "\n",
        "if indTest.pvalue < alpha:\n",
        "    print(\"Reject the null\")\n",
        "else:\n",
        "    print(\"Fail to reject the null\")"
      ]
    },
    {
      "cell_type": "code",
      "execution_count": null,
      "metadata": {
        "id": "wBv3eAf5Y81r"
      },
      "outputs": [],
      "source": [
        ""
      ]
    },
    {
      "cell_type": "markdown",
      "metadata": {
        "id": "-rafZnBLY81s"
      },
      "source": [
        "# Paired (Dependent) Samples T Test"
      ]
    },
    {
      "cell_type": "markdown",
      "metadata": {
        "id": "YO5ieX4lY81s"
      },
      "source": [
        "## Prozac Data"
      ]
    },
    {
      "cell_type": "markdown",
      "metadata": {
        "id": "A4XL4h-7Y81s"
      },
      "source": [
        "- Let us consider a simple example of what is often termed \"pre/post\" data or \"pretest/posttest\" data. \n",
        "- Suppose you wish to test the effect of Prozac on the well-being of depressed individuals, using a standardised \"well-being scale\" that sums Likert-type items to obtain a score that could range from 0 to 20. \n",
        "- Higher scores indicate greater well-being (that is, Prozac is having a positive effect). \n",
        "- While there are flaws in this design (e.g., lack of a control group) it will serve as an example of how to analyse such data."
      ]
    },
    {
      "cell_type": "markdown",
      "metadata": {
        "id": "_Q0CmnH3Y81t"
      },
      "source": [
        "Determine if Prozac enhances well-being in depressed individuals. Use   0.05\n"
      ]
    },
    {
      "cell_type": "code",
      "execution_count": null,
      "metadata": {
        "id": "2GDMffIyY81t"
      },
      "outputs": [],
      "source": [
        "# read prozac dataset\n",
        "prozac = "
      ]
    },
    {
      "cell_type": "code",
      "execution_count": null,
      "metadata": {
        "id": "a4LSTrpdY81u"
      },
      "outputs": [],
      "source": [
        "prozac"
      ]
    },
    {
      "cell_type": "code",
      "execution_count": null,
      "metadata": {
        "id": "o1QGc1ltY81u"
      },
      "outputs": [],
      "source": [
        "# H0: d_bar = 0\n",
        "# H1: d_bar > 0"
      ]
    },
    {
      "cell_type": "code",
      "execution_count": null,
      "metadata": {
        "id": "VH_2MN79Y81v"
      },
      "outputs": [],
      "source": [
        "# Calculate test statistics using stats.ttest_rel()  \n",
        "# moodpost - moodpre\n",
        "pairedtest = \n",
        "pairedtest"
      ]
    },
    {
      "cell_type": "code",
      "execution_count": null,
      "metadata": {
        "id": "pKJjtDiKY81v"
      },
      "outputs": [],
      "source": [
        "# moodpre - moodpost\n",
        "# H0: d_bar = 0\n",
        "# H1: d_bar < 0\n"
      ]
    },
    {
      "cell_type": "code",
      "execution_count": null,
      "metadata": {
        "id": "4WERDe7fY81w"
      },
      "outputs": [],
      "source": [
        "# Decision\n",
        "alpha = 0.05\n",
        "\n",
        "if pairedtest.pvalue < alpha:\n",
        "    print(\"Reject the Null\")\n",
        "else:\n",
        "    print(\"Fail to reject\")"
      ]
    },
    {
      "cell_type": "code",
      "execution_count": null,
      "metadata": {
        "id": "fmq-ZkfeY81w"
      },
      "outputs": [],
      "source": [
        ""
      ]
    },
    {
      "cell_type": "code",
      "execution_count": null,
      "metadata": {
        "id": "zSPZ-dBKY81w"
      },
      "outputs": [],
      "source": [
        ""
      ]
    },
    {
      "cell_type": "code",
      "execution_count": null,
      "metadata": {
        "id": "jx5YrCYzY81w"
      },
      "outputs": [],
      "source": [
        ""
      ]
    }
  ],
  "metadata": {
    "kernelspec": {
      "display_name": "Python 3",
      "language": "python",
      "name": "python3"
    },
    "language_info": {
      "codemirror_mode": {
        "name": "ipython",
        "version": 3
      },
      "file_extension": ".py",
      "mimetype": "text/x-python",
      "name": "python",
      "nbconvert_exporter": "python",
      "pygments_lexer": "ipython3",
      "version": "3.7.11"
    },
    "colab": {
      "name": "Statistics_Lab3_(Hypothesis Tests)_Jason_22_Feb_2022-Students.ipynb",
      "provenance": [],
      "collapsed_sections": [
        "QXaj2ZA7Y81m",
        "gs4_t4ofY81m",
        "YO5ieX4lY81s"
      ],
      "include_colab_link": true
    }
  },
  "nbformat": 4,
  "nbformat_minor": 0
}