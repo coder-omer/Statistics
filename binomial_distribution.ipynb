{
  "nbformat": 4,
  "nbformat_minor": 0,
  "metadata": {
    "colab": {
      "name": "binomial_distribution.ipynb",
      "provenance": [],
      "authorship_tag": "ABX9TyOStF0HltVzxDGp93ZL3NAA",
      "include_colab_link": true
    },
    "kernelspec": {
      "name": "python3",
      "display_name": "Python 3"
    },
    "language_info": {
      "name": "python"
    }
  },
  "cells": [
    {
      "cell_type": "markdown",
      "metadata": {
        "id": "view-in-github",
        "colab_type": "text"
      },
      "source": [
        "<a href=\"https://colab.research.google.com/github/coder-omer/Statistics/blob/main/binomial_distribution.ipynb\" target=\"_parent\"><img src=\"https://colab.research.google.com/assets/colab-badge.svg\" alt=\"Open In Colab\"/></a>"
      ]
    },
    {
      "cell_type": "code",
      "execution_count": null,
      "metadata": {
        "colab": {
          "base_uri": "https://localhost:8080/"
        },
        "id": "XF2lNqxJEpCu",
        "outputId": "7a630b28-d1ab-4b99-cad7-f364e2964cec"
      },
      "outputs": [
        {
          "output_type": "execute_result",
          "data": {
            "text/plain": [
              "array([3, 7, 5, 4, 2, 2, 2, 6, 4, 5])"
            ]
          },
          "metadata": {},
          "execution_count": 16
        }
      ],
      "source": [
        "from scipy import stats\n",
        "binomDist = stats.binom(n=10, p=0.4)\n",
        "binomDist.rvs(size=10, random_state=42)"
      ]
    },
    {
      "cell_type": "code",
      "source": [
        "binomDist = stats.binom(n=10, p=0.4)\n",
        "binomDist.pmf(k=3)"
      ],
      "metadata": {
        "colab": {
          "base_uri": "https://localhost:8080/"
        },
        "id": "t-6rbudqEw_U",
        "outputId": "d4806c04-50bd-42f5-b2a3-afd2df65fdc4"
      },
      "execution_count": null,
      "outputs": [
        {
          "output_type": "execute_result",
          "data": {
            "text/plain": [
              "0.21499084800000012"
            ]
          },
          "metadata": {},
          "execution_count": 17
        }
      ]
    },
    {
      "cell_type": "code",
      "source": [
        "binomDist = stats.binom(n=10, p=0.4)\n",
        "binomDist.pmf(k=[1,2,3])"
      ],
      "metadata": {
        "colab": {
          "base_uri": "https://localhost:8080/"
        },
        "id": "dPEb4S4IExCL",
        "outputId": "378e0f74-9a31-4cab-833c-eae852b2e1ee"
      },
      "execution_count": null,
      "outputs": [
        {
          "output_type": "execute_result",
          "data": {
            "text/plain": [
              "array([0.04031078, 0.12093235, 0.21499085])"
            ]
          },
          "metadata": {},
          "execution_count": 18
        }
      ]
    },
    {
      "cell_type": "code",
      "source": [
        "binomDist = stats.binom(n=10, p=0.4)\n",
        "binomDist.cdf(3)"
      ],
      "metadata": {
        "colab": {
          "base_uri": "https://localhost:8080/"
        },
        "id": "eEMUWoSgExFM",
        "outputId": "316d878f-3658-41d1-9989-2e10c7d905c7"
      },
      "execution_count": null,
      "outputs": [
        {
          "output_type": "execute_result",
          "data": {
            "text/plain": [
              "0.3822806016000001"
            ]
          },
          "metadata": {},
          "execution_count": 19
        }
      ]
    },
    {
      "cell_type": "code",
      "source": [
        "binomDist = stats.binom(n=10, p=0.4)\n",
        "binomDist.ppf(0.3822806)"
      ],
      "metadata": {
        "colab": {
          "base_uri": "https://localhost:8080/"
        },
        "id": "I3JZJKYcExIf",
        "outputId": "ec3e77e4-14af-40c1-c98f-09d7b7204044"
      },
      "execution_count": null,
      "outputs": [
        {
          "output_type": "execute_result",
          "data": {
            "text/plain": [
              "3.0"
            ]
          },
          "metadata": {},
          "execution_count": 20
        }
      ]
    },
    {
      "cell_type": "code",
      "source": [
        "binomDist = stats.binom(n=10, p=0.4)\n",
        "binomDist.stats(moments='mv') #Mean(‘m’), variance(‘v’), skew(‘s’), and/or kurtosis(‘k’)"
      ],
      "metadata": {
        "colab": {
          "base_uri": "https://localhost:8080/"
        },
        "id": "azYg7TYCExLM",
        "outputId": "cdbcd657-c615-48aa-d49b-a290639f6c7e"
      },
      "execution_count": null,
      "outputs": [
        {
          "output_type": "execute_result",
          "data": {
            "text/plain": [
              "(array(4.), array(2.4))"
            ]
          },
          "metadata": {},
          "execution_count": 21
        }
      ]
    }
  ]
}